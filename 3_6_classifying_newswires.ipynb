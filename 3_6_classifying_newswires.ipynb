{
  "nbformat": 4,
  "nbformat_minor": 0,
  "metadata": {
    "colab": {
      "name": "3.6-classifying-newswires.ipynb",
      "version": "0.3.2",
      "provenance": []
    },
    "kernelspec": {
      "display_name": "Python 3",
      "language": "python",
      "name": "python3"
    }
  },
  "cells": [
    {
      "cell_type": "markdown",
      "metadata": {
        "id": "view-in-github",
        "colab_type": "text"
      },
      "source": [
        "[View in Colaboratory](https://colab.research.google.com/github/alvi-subhan/Deep-learning-using-keras/blob/master/3_6_classifying_newswires.ipynb)"
      ]
    },
    {
      "metadata": {
        "id": "P9e6Zi6fUO8y",
        "colab_type": "code",
        "colab": {
          "base_uri": "https://localhost:8080/",
          "height": 51
        },
        "outputId": "6442cd44-7ce0-413a-872a-01ee2bb508a3"
      },
      "cell_type": "code",
      "source": [
        "import keras\n",
        "keras.__version__"
      ],
      "execution_count": 1,
      "outputs": [
        {
          "output_type": "stream",
          "text": [
            "Using TensorFlow backend.\n"
          ],
          "name": "stderr"
        },
        {
          "output_type": "execute_result",
          "data": {
            "text/plain": [
              "'2.1.6'"
            ]
          },
          "metadata": {
            "tags": []
          },
          "execution_count": 1
        }
      ]
    },
    {
      "metadata": {
        "id": "XTKK9Yg8UO9a",
        "colab_type": "text"
      },
      "cell_type": "markdown",
      "source": [
        "# Classifying newswires: a multi-class classification example\n",
        "\n",
        "This notebook contains the code samples found in Chapter 3, Section 5 of [Deep Learning with Python](https://www.manning.com/books/deep-learning-with-python?a_aid=keras&a_bid=76564dff). Note that the original text features far more content, in particular further explanations and figures: in this notebook, you will only find source code and related comments.\n",
        "\n",
        "----\n",
        "\n",
        "In the previous section we saw how to classify vector inputs into two mutually exclusive classes using a densely-connected neural network. \n",
        "But what happens when you have more than two classes? \n",
        "\n",
        "In this section, we will build a network to classify Reuters newswires into 46 different mutually-exclusive topics. Since we have many \n",
        "classes, this problem is an instance of \"multi-class classification\", and since each data point should be classified into only one \n",
        "category, the problem is more specifically an instance of \"single-label, multi-class classification\". If each data point could have \n",
        "belonged to multiple categories (in our case, topics) then we would be facing a \"multi-label, multi-class classification\" problem."
      ]
    },
    {
      "metadata": {
        "id": "ohhy4g6hUO9f",
        "colab_type": "text"
      },
      "cell_type": "markdown",
      "source": [
        "## The Reuters dataset\n",
        "\n",
        "\n",
        "We will be working with the _Reuters dataset_, a set of short newswires and their topics, published by Reuters in 1986. It's a very simple, \n",
        "widely used toy dataset for text classification. There are 46 different topics; some topics are more represented than others, but each \n",
        "topic has at least 10 examples in the training set.\n",
        "\n",
        "Like IMDB and MNIST, the Reuters dataset comes packaged as part of Keras. Let's take a look right away:"
      ]
    },
    {
      "metadata": {
        "id": "9Q4snmiHUO9j",
        "colab_type": "code",
        "colab": {
          "base_uri": "https://localhost:8080/",
          "height": 51
        },
        "outputId": "0a92f040-871c-49f8-fd54-a51191b1095a"
      },
      "cell_type": "code",
      "source": [
        "from keras.datasets import reuters\n",
        "\n",
        "(train_data, train_labels), (test_data, test_labels) = reuters.load_data(num_words=10000)"
      ],
      "execution_count": 2,
      "outputs": [
        {
          "output_type": "stream",
          "text": [
            "Downloading data from https://s3.amazonaws.com/text-datasets/reuters.npz\n",
            "2113536/2110848 [==============================] - 0s 0us/step\n"
          ],
          "name": "stdout"
        }
      ]
    },
    {
      "metadata": {
        "id": "KVWGYKwiUO91",
        "colab_type": "text"
      },
      "cell_type": "markdown",
      "source": [
        "\n",
        "Like with the IMDB dataset, the argument `num_words=10000` restricts the data to the 10,000 most frequently occurring words found in the \n",
        "data.\n",
        "\n",
        "We have 8,982 training examples and 2,246 test examples:"
      ]
    },
    {
      "metadata": {
        "id": "UC-mnVKTUO99",
        "colab_type": "code",
        "colab": {
          "base_uri": "https://localhost:8080/",
          "height": 34
        },
        "outputId": "5b2ce5a4-5ae9-42eb-b25c-aff79f8766a1"
      },
      "cell_type": "code",
      "source": [
        "len(train_data)"
      ],
      "execution_count": 3,
      "outputs": [
        {
          "output_type": "execute_result",
          "data": {
            "text/plain": [
              "8982"
            ]
          },
          "metadata": {
            "tags": []
          },
          "execution_count": 3
        }
      ]
    },
    {
      "metadata": {
        "id": "OoZiLR73UO-U",
        "colab_type": "code",
        "colab": {
          "base_uri": "https://localhost:8080/",
          "height": 34
        },
        "outputId": "c6d03d28-8204-4ffe-a865-d0fa95a1799c"
      },
      "cell_type": "code",
      "source": [
        "len(test_data)"
      ],
      "execution_count": 4,
      "outputs": [
        {
          "output_type": "execute_result",
          "data": {
            "text/plain": [
              "2246"
            ]
          },
          "metadata": {
            "tags": []
          },
          "execution_count": 4
        }
      ]
    },
    {
      "metadata": {
        "id": "yWwkap3hUO-p",
        "colab_type": "text"
      },
      "cell_type": "markdown",
      "source": [
        "As with the IMDB reviews, each example is a list of integers (word indices):"
      ]
    },
    {
      "metadata": {
        "id": "SO2gFblVUO-t",
        "colab_type": "code",
        "colab": {
          "base_uri": "https://localhost:8080/",
          "height": 544
        },
        "outputId": "9b573887-e267-4f08-a226-54df77e69efa"
      },
      "cell_type": "code",
      "source": [
        "train_data[10]"
      ],
      "execution_count": 5,
      "outputs": [
        {
          "output_type": "execute_result",
          "data": {
            "text/plain": [
              "[1,\n",
              " 245,\n",
              " 273,\n",
              " 207,\n",
              " 156,\n",
              " 53,\n",
              " 74,\n",
              " 160,\n",
              " 26,\n",
              " 14,\n",
              " 46,\n",
              " 296,\n",
              " 26,\n",
              " 39,\n",
              " 74,\n",
              " 2979,\n",
              " 3554,\n",
              " 14,\n",
              " 46,\n",
              " 4689,\n",
              " 4329,\n",
              " 86,\n",
              " 61,\n",
              " 3499,\n",
              " 4795,\n",
              " 14,\n",
              " 61,\n",
              " 451,\n",
              " 4329,\n",
              " 17,\n",
              " 12]"
            ]
          },
          "metadata": {
            "tags": []
          },
          "execution_count": 5
        }
      ]
    },
    {
      "metadata": {
        "id": "-JBjGfGBUO_C",
        "colab_type": "text"
      },
      "cell_type": "markdown",
      "source": [
        "Here's how you can decode it back to words, in case you are curious:"
      ]
    },
    {
      "metadata": {
        "id": "2aee7AWOUO_G",
        "colab_type": "code",
        "colab": {
          "base_uri": "https://localhost:8080/",
          "height": 51
        },
        "outputId": "320aa1cb-2d8d-448f-d45f-e2772934fae6"
      },
      "cell_type": "code",
      "source": [
        "word_index = reuters.get_word_index()\n",
        "reverse_word_index = dict([(value, key) for (key, value) in word_index.items()])\n",
        "# Note that our indices were offset by 3\n",
        "# because 0, 1 and 2 are reserved indices for \"padding\", \"start of sequence\", and \"unknown\".\n",
        "decoded_newswire = ' '.join([reverse_word_index.get(i - 3, '?') for i in train_data[700]])"
      ],
      "execution_count": 6,
      "outputs": [
        {
          "output_type": "stream",
          "text": [
            "Downloading data from https://s3.amazonaws.com/text-datasets/reuters_word_index.json\n",
            "557056/550378 [==============================] - 0s 0us/step\n"
          ],
          "name": "stdout"
        }
      ]
    },
    {
      "metadata": {
        "id": "XBGF6TlKUO_c",
        "colab_type": "code",
        "colab": {
          "base_uri": "https://localhost:8080/",
          "height": 54
        },
        "outputId": "0a23de22-5f46-414b-bc8f-45342c24b112"
      },
      "cell_type": "code",
      "source": [
        "decoded_newswire"
      ],
      "execution_count": 7,
      "outputs": [
        {
          "output_type": "execute_result",
          "data": {
            "text/plain": [
              "'? japan said it understood why the u s attacked an iranian oil platform on monday japan deeply concerned over the increasing threat to the ships ? in the gulf ? the circumstances that have led the united states government to take these measures the foreign ministry said in a statement the statement added that the threat to free and safe navigation had increased after the missile attack on a u s flagged tanker in kuwaiti territorial waters last friday reuter 3'"
            ]
          },
          "metadata": {
            "tags": []
          },
          "execution_count": 7
        }
      ]
    },
    {
      "metadata": {
        "id": "D82zKTU4UO_y",
        "colab_type": "text"
      },
      "cell_type": "markdown",
      "source": [
        "The label associated with an example is an integer between 0 and 45: a topic index."
      ]
    },
    {
      "metadata": {
        "id": "oTwoJWZlUO_5",
        "colab_type": "code",
        "colab": {
          "base_uri": "https://localhost:8080/",
          "height": 34
        },
        "outputId": "875e30e1-2a04-42e6-85fc-31d65f72fb9c"
      },
      "cell_type": "code",
      "source": [
        "train_labels[700]"
      ],
      "execution_count": 10,
      "outputs": [
        {
          "output_type": "execute_result",
          "data": {
            "text/plain": [
              "16"
            ]
          },
          "metadata": {
            "tags": []
          },
          "execution_count": 10
        }
      ]
    },
    {
      "metadata": {
        "id": "uh1HNtg-UPAO",
        "colab_type": "text"
      },
      "cell_type": "markdown",
      "source": [
        "## Preparing the data\n",
        "\n",
        "We can vectorize the data with the exact same code as in our previous example:"
      ]
    },
    {
      "metadata": {
        "id": "qzdwbzAKUPAT",
        "colab_type": "code",
        "colab": {
          "base_uri": "https://localhost:8080/",
          "height": 17
        },
        "outputId": "3715720a-1e41-4fd7-a258-a74d95cf0dc8"
      },
      "cell_type": "code",
      "source": [
        "import numpy as np\n",
        "\n",
        "def vectorize_sequences(sequences, dimension=10000):\n",
        "    results = np.zeros((len(sequences), dimension))\n",
        "    for i, sequence in enumerate(sequences):\n",
        "        results[i, sequence] = 1.\n",
        "    return results\n",
        "\n",
        "# Our vectorized training data\n",
        "x_train = vectorize_sequences(train_data)\n",
        "# Our vectorized test data\n",
        "x_test = vectorize_sequences(test_data)"
      ],
      "execution_count": 8,
      "outputs": []
    },
    {
      "metadata": {
        "id": "yANRxCDhVIay",
        "colab_type": "text"
      },
      "cell_type": "markdown",
      "source": [
        "**after the vectorization**\n",
        "this is what data look like at 700 index\n"
      ]
    },
    {
      "metadata": {
        "id": "_UlDthTmUxZm",
        "colab_type": "code",
        "colab": {
          "base_uri": "https://localhost:8080/",
          "height": 34
        },
        "outputId": "9c7ad5c3-1449-41e8-8d0e-14277770cbb8"
      },
      "cell_type": "code",
      "source": [
        "x_train[700]"
      ],
      "execution_count": 9,
      "outputs": [
        {
          "output_type": "execute_result",
          "data": {
            "text/plain": [
              "array([0., 1., 1., ..., 0., 0., 0.])"
            ]
          },
          "metadata": {
            "tags": []
          },
          "execution_count": 9
        }
      ]
    },
    {
      "metadata": {
        "id": "6hE2DOGaUPAl",
        "colab_type": "text"
      },
      "cell_type": "markdown",
      "source": [
        "**Vectroization of labels**\n",
        "\n",
        "**To vectorize the labels, there are two possibilities: we could just cast the label list as an integer tensor, or we could use a \"one-hot\" \n",
        "encoding. One-hot encoding is a widely used format for categorical data, also called \"categorical encoding\". \n",
        "For a more detailed explanation of one-hot encoding, you can refer to Chapter 6, Section 1. \n",
        "In our case, one-hot encoding of our labels consists in embedding each label as an all-zero vector with a 1 in the place of the label index, e.g.: **"
      ]
    },
    {
      "metadata": {
        "id": "B9ipkk9AUPAv",
        "colab_type": "code",
        "colab": {
          "base_uri": "https://localhost:8080/",
          "height": 17
        },
        "outputId": "41e28205-7bde-4065-d800-876cca3f8d6b"
      },
      "cell_type": "code",
      "source": [
        "def to_one_hot(labels, dimension=46):\n",
        "    results = np.zeros((len(labels), dimension))\n",
        "    for i, label in enumerate(labels):\n",
        "        results[i, label] = 1.\n",
        "    return results\n",
        "\n",
        "# Our vectorized training labels\n",
        "one_hot_train_labels = to_one_hot(train_labels)\n",
        "# Our vectorized test labels\n",
        "one_hot_test_labels = to_one_hot(test_labels)"
      ],
      "execution_count": 10,
      "outputs": []
    },
    {
      "metadata": {
        "id": "OGOY0miJVe9F",
        "colab_type": "code",
        "colab": {
          "base_uri": "https://localhost:8080/",
          "height": 68
        },
        "outputId": "8deb0ac4-be88-43fa-8750-77ecc015e6d7"
      },
      "cell_type": "code",
      "source": [
        "one_hot_test_labels[20]"
      ],
      "execution_count": 11,
      "outputs": [
        {
          "output_type": "execute_result",
          "data": {
            "text/plain": [
              "array([0., 0., 0., 0., 0., 0., 0., 0., 1., 0., 0., 0., 0., 0., 0., 0., 0.,\n",
              "       0., 0., 0., 0., 0., 0., 0., 0., 0., 0., 0., 0., 0., 0., 0., 0., 0.,\n",
              "       0., 0., 0., 0., 0., 0., 0., 0., 0., 0., 0., 0.])"
            ]
          },
          "metadata": {
            "tags": []
          },
          "execution_count": 11
        }
      ]
    },
    {
      "metadata": {
        "id": "FJj_SIokUPBI",
        "colab_type": "text"
      },
      "cell_type": "markdown",
      "source": [
        "Note that there is a built-in way to do this in Keras, which you have already seen in action in our MNIST example:"
      ]
    },
    {
      "metadata": {
        "id": "mYFsEVK5UPBU",
        "colab_type": "code",
        "colab": {
          "base_uri": "https://localhost:8080/",
          "height": 17
        },
        "outputId": "0b63b88e-fca1-46ab-8c33-6c09eaa16e93"
      },
      "cell_type": "code",
      "source": [
        "from keras.utils.np_utils import to_categorical\n",
        "\n",
        "on_hot_train_labels = to_categorical(train_labels)\n",
        "on_hot_test_labels = to_categorical(test_labels)"
      ],
      "execution_count": 12,
      "outputs": []
    },
    {
      "metadata": {
        "id": "2DKn_Cs2Vy5E",
        "colab_type": "code",
        "colab": {
          "base_uri": "https://localhost:8080/",
          "height": 68
        },
        "outputId": "e335ce39-bd69-467e-f6b8-5c93040012af"
      },
      "cell_type": "code",
      "source": [
        "on_hot_test_labels[20]"
      ],
      "execution_count": 13,
      "outputs": [
        {
          "output_type": "execute_result",
          "data": {
            "text/plain": [
              "array([0., 0., 0., 0., 0., 0., 0., 0., 1., 0., 0., 0., 0., 0., 0., 0., 0.,\n",
              "       0., 0., 0., 0., 0., 0., 0., 0., 0., 0., 0., 0., 0., 0., 0., 0., 0.,\n",
              "       0., 0., 0., 0., 0., 0., 0., 0., 0., 0., 0., 0.], dtype=float32)"
            ]
          },
          "metadata": {
            "tags": []
          },
          "execution_count": 13
        }
      ]
    },
    {
      "metadata": {
        "id": "yTmJtoBsWdC-",
        "colab_type": "code",
        "colab": {
          "base_uri": "https://localhost:8080/",
          "height": 34
        },
        "outputId": "788bc01d-abc5-4262-e7a3-13ce2c043f24"
      },
      "cell_type": "code",
      "source": [
        "test_labels[20]"
      ],
      "execution_count": 14,
      "outputs": [
        {
          "output_type": "execute_result",
          "data": {
            "text/plain": [
              "8"
            ]
          },
          "metadata": {
            "tags": []
          },
          "execution_count": 14
        }
      ]
    },
    {
      "metadata": {
        "id": "A8WvkCTrUPBu",
        "colab_type": "text"
      },
      "cell_type": "markdown",
      "source": [
        "## Building our network\n",
        "\n",
        "\n",
        "This topic classification problem looks very similar to our previous movie review classification problem: in both cases, we are trying to \n",
        "classify short snippets of text. There is however a new constraint here: the number of output classes has gone from 2 to 46, i.e. the \n",
        "dimensionality of the output space is much larger. \n",
        "\n",
        "In a stack of `Dense` layers like what we were using, each layer can only access information present in the output of the previous layer. \n",
        "If one layer drops some information relevant to the classification problem, this information can never be recovered by later layers: each \n",
        "layer can potentially become an \"information bottleneck\". In our previous example, we were using 16-dimensional intermediate layers, but a \n",
        "16-dimensional space may be too limited to learn to separate 46 different classes: such small layers may act as information bottlenecks, \n",
        "permanently dropping relevant information.\n",
        "\n",
        "For this reason we will use larger layers. Let's go with 64 units:"
      ]
    },
    {
      "metadata": {
        "id": "skATj60vUPBz",
        "colab_type": "code",
        "colab": {
          "base_uri": "https://localhost:8080/",
          "height": 17
        },
        "outputId": "8eaf4205-1a84-4423-98ad-0f62a14100bd"
      },
      "cell_type": "code",
      "source": [
        "from keras import models\n",
        "from keras import layers\n",
        "\n",
        "model = models.Sequential()\n",
        "model.add(layers.Dense(64, activation='relu', input_shape=(10000,)))\n",
        "model.add(layers.Dense(64, activation='relu'))\n",
        "model.add(layers.Dense(46, activation='softmax'))"
      ],
      "execution_count": 15,
      "outputs": []
    },
    {
      "metadata": {
        "id": "qIr8STN-UPCN",
        "colab_type": "text"
      },
      "cell_type": "markdown",
      "source": [
        "\n",
        "There are two other things you should note about this architecture:\n",
        "\n",
        "* We are ending the network with a `Dense` layer of size 46. This means that for each input sample, our network will output a \n",
        "46-dimensional vector. Each entry in this vector (each dimension) will encode a different output class.\n",
        "* The last layer uses a `softmax` activation. You have already seen this pattern in the MNIST example. It means that the network will \n",
        "output a _probability distribution_ over the 46 different output classes, i.e. for every input sample, the network will produce a \n",
        "46-dimensional output vector where `output[i]` is the probability that the sample belongs to class `i`. The 46 scores will sum to 1.\n",
        "\n",
        "The best loss function to use in this case is `categorical_crossentropy`. It measures the distance between two probability distributions: \n",
        "in our case, between the probability distribution output by our network, and the true distribution of the labels. By minimizing the \n",
        "distance between these two distributions, we train our network to output something as close as possible to the true labels."
      ]
    },
    {
      "metadata": {
        "id": "64YWS1oNUPCR",
        "colab_type": "code",
        "colab": {
          "base_uri": "https://localhost:8080/",
          "height": 17
        },
        "outputId": "c29cf191-3bf4-4e66-8323-5895fbf74acf"
      },
      "cell_type": "code",
      "source": [
        "model.compile(optimizer='rmsprop',\n",
        "              loss='categorical_crossentropy',\n",
        "              metrics=['accuracy'])"
      ],
      "execution_count": 16,
      "outputs": []
    },
    {
      "metadata": {
        "id": "rChbToWoUPDc",
        "colab_type": "text"
      },
      "cell_type": "markdown",
      "source": [
        "## Validating our approach\n",
        "\n",
        "Let's set apart 1,000 samples in our training data to use as a validation set:"
      ]
    },
    {
      "metadata": {
        "id": "rmo5PmLkUPDh",
        "colab_type": "code",
        "colab": {
          "base_uri": "https://localhost:8080/",
          "height": 17
        },
        "outputId": "bf786a7f-d7bc-435a-847a-36e47f076b82"
      },
      "cell_type": "code",
      "source": [
        "x_val = x_train[:1000]\n",
        "partial_x_train = x_train[1000:]\n",
        "\n",
        "y_val = one_hot_train_labels[:1000]\n",
        "partial_y_train = one_hot_train_labels[1000:]"
      ],
      "execution_count": 17,
      "outputs": []
    },
    {
      "metadata": {
        "id": "9zom8dVfUPEN",
        "colab_type": "text"
      },
      "cell_type": "markdown",
      "source": [
        "Now let's train our network for 20 epochs:"
      ]
    },
    {
      "metadata": {
        "id": "U3BB0cUpUPEl",
        "colab_type": "code",
        "colab": {
          "base_uri": "https://localhost:8080/",
          "height": 734
        },
        "outputId": "0f111fa4-b971-45a3-a07b-3a7f7df9c566"
      },
      "cell_type": "code",
      "source": [
        "history = model.fit(partial_x_train,\n",
        "                    partial_y_train,\n",
        "                    epochs=20,\n",
        "                    batch_size=512,\n",
        "                    validation_data=(x_val, y_val))"
      ],
      "execution_count": 18,
      "outputs": [
        {
          "output_type": "stream",
          "text": [
            "Train on 7982 samples, validate on 1000 samples\n",
            "Epoch 1/20\n",
            "7982/7982 [==============================] - 1s 147us/step - loss: 2.5152 - acc: 0.4960 - val_loss: 1.7151 - val_acc: 0.6140\n",
            "Epoch 2/20\n",
            "7982/7982 [==============================] - 1s 133us/step - loss: 1.4400 - acc: 0.6894 - val_loss: 1.3478 - val_acc: 0.7050\n",
            "Epoch 3/20\n",
            "7982/7982 [==============================] - 1s 143us/step - loss: 1.0926 - acc: 0.7653 - val_loss: 1.1696 - val_acc: 0.7410\n",
            "Epoch 4/20\n",
            "7982/7982 [==============================] - 1s 147us/step - loss: 0.8682 - acc: 0.8176 - val_loss: 1.0835 - val_acc: 0.7570\n",
            "Epoch 5/20\n",
            "7982/7982 [==============================] - 1s 143us/step - loss: 0.7018 - acc: 0.8490 - val_loss: 0.9851 - val_acc: 0.7820\n",
            "Epoch 6/20\n",
            "7982/7982 [==============================] - 1s 143us/step - loss: 0.5661 - acc: 0.8809 - val_loss: 0.9416 - val_acc: 0.8010\n",
            "Epoch 7/20\n",
            "7982/7982 [==============================] - 1s 142us/step - loss: 0.4616 - acc: 0.9049 - val_loss: 0.9107 - val_acc: 0.8020\n",
            "Epoch 8/20\n",
            "7982/7982 [==============================] - 1s 143us/step - loss: 0.3733 - acc: 0.9219 - val_loss: 0.9354 - val_acc: 0.7900\n",
            "Epoch 9/20\n",
            "4096/7982 [==============>...............] - ETA: 0s - loss: 0.3061 - acc: 0.9329"
          ],
          "name": "stdout"
        },
        {
          "output_type": "stream",
          "text": [
            "7982/7982 [==============================] - 1s 144us/step - loss: 0.3061 - acc: 0.9313 - val_loss: 0.8930 - val_acc: 0.8050\n",
            "Epoch 10/20\n",
            "7982/7982 [==============================] - 1s 142us/step - loss: 0.2560 - acc: 0.9411 - val_loss: 0.9062 - val_acc: 0.8130\n",
            "Epoch 11/20\n",
            "7982/7982 [==============================] - 1s 147us/step - loss: 0.2206 - acc: 0.9465 - val_loss: 0.9163 - val_acc: 0.8110\n",
            "Epoch 12/20\n",
            "7982/7982 [==============================] - 1s 140us/step - loss: 0.1894 - acc: 0.9508 - val_loss: 0.9070 - val_acc: 0.8160\n",
            "Epoch 13/20\n",
            "7982/7982 [==============================] - 1s 145us/step - loss: 0.1717 - acc: 0.9521 - val_loss: 0.9338 - val_acc: 0.8090\n",
            "Epoch 14/20\n",
            "7982/7982 [==============================] - 1s 149us/step - loss: 0.1549 - acc: 0.9559 - val_loss: 0.9621 - val_acc: 0.8070\n",
            "Epoch 15/20\n",
            "7982/7982 [==============================] - 1s 146us/step - loss: 0.1399 - acc: 0.9564 - val_loss: 0.9659 - val_acc: 0.8140\n",
            "Epoch 16/20\n",
            "7982/7982 [==============================] - 1s 144us/step - loss: 0.1327 - acc: 0.9558 - val_loss: 1.0176 - val_acc: 0.8050\n",
            "Epoch 17/20\n",
            "7982/7982 [==============================] - 1s 145us/step - loss: 0.1227 - acc: 0.9578 - val_loss: 1.0206 - val_acc: 0.7980\n",
            "Epoch 18/20\n"
          ],
          "name": "stdout"
        },
        {
          "output_type": "stream",
          "text": [
            "7982/7982 [==============================] - 1s 145us/step - loss: 0.1207 - acc: 0.9573 - val_loss: 1.0411 - val_acc: 0.8060\n",
            "Epoch 19/20\n",
            "7982/7982 [==============================] - 1s 142us/step - loss: 0.1146 - acc: 0.9597 - val_loss: 1.1015 - val_acc: 0.7960\n",
            "Epoch 20/20\n",
            "7982/7982 [==============================] - 1s 144us/step - loss: 0.1124 - acc: 0.9595 - val_loss: 1.0748 - val_acc: 0.8010\n"
          ],
          "name": "stdout"
        }
      ]
    },
    {
      "metadata": {
        "id": "CNTpIPC-UPFp",
        "colab_type": "text"
      },
      "cell_type": "markdown",
      "source": [
        "Let's display its loss and accuracy curves:"
      ]
    },
    {
      "metadata": {
        "id": "tsNjfuxjUPGK",
        "colab_type": "code",
        "colab": {
          "base_uri": "https://localhost:8080/",
          "height": 376
        },
        "outputId": "e7cba5e2-485d-49bc-b122-73144904a8dd"
      },
      "cell_type": "code",
      "source": [
        "import matplotlib.pyplot as plt\n",
        "\n",
        "loss = history.history['loss']\n",
        "val_loss = history.history['val_loss']\n",
        "\n",
        "epochs = range(1, len(loss) + 1)\n",
        "\n",
        "plt.plot(epochs, loss, 'bo', label='Training loss')\n",
        "plt.plot(epochs, val_loss, 'b', label='Validation loss')\n",
        "plt.title('Training and validation loss')\n",
        "plt.xlabel('Epochs')\n",
        "plt.ylabel('Loss')\n",
        "plt.legend()\n",
        "\n",
        "\n",
        "plt.show()"
      ],
      "execution_count": 19,
      "outputs": [
        {
          "output_type": "display_data",
          "data": {
            "image/png": "[encoded data removed]",
            "text/plain": [
              "<matplotlib.figure.Figure at 0x7fe966a77828>"
            ]
          },
          "metadata": {
            "tags": []
          }
        }
      ]
    },
    {
      "metadata": {
        "id": "8duze7mrdQNW",
        "colab_type": "code",
        "colab": {
          "base_uri": "https://localhost:8080/",
          "height": 452
        },
        "outputId": "bbb7c325-397b-4f5d-9248-6e5c1f32eb52"
      },
      "cell_type": "code",
      "source": [
        "print(history.history)\n",
        "print(loss)\n",
        "print(val_loss)\n",
        "print(epochs)\n",
        "plt.plot(epochs,loss)"
      ],
      "execution_count": 22,
      "outputs": [
        {
          "output_type": "stream",
          "text": [
            "{'val_loss': [1.7151439695358277, 1.3478155841827393, 1.1696101322174073, 1.0835124025344849, 0.9850943813323975, 0.9416287260055543, 0.9107129430770874, 0.9353509044647217, 0.8929766750335694, 0.9061575703620911, 0.9162699928283692, 0.906952435016632, 0.9337559232711792, 0.9621203699111939, 0.9658965911865235, 1.017648847579956, 1.020556516647339, 1.041063473701477, 1.1015060863494872, 1.0748134489059449], 'val_acc': [0.6139999985694885, 0.7049999933242798, 0.7409999899864197, 0.7569999938011169, 0.7820000085830688, 0.8010000052452088, 0.8020000076293945, 0.7899999942779541, 0.8049999918937684, 0.8130000052452088, 0.8110000114440918, 0.8159999957084656, 0.8089999895095825, 0.8069999918937684, 0.8140000004768372, 0.8049999895095825, 0.7979999942779541, 0.8060000076293945, 0.7959999918937684, 0.8009999871253968], 'loss': [2.5152179852848633, 1.4400186483138966, 1.09263083131891, 0.8681671241565744, 0.7017604238973228, 0.5661171950573493, 0.4616239985646654, 0.3732759061537121, 0.3061377179634598, 0.2559871982397576, 0.220555698653565, 0.18942086775704334, 0.17165924069189065, 0.15494241552211324, 0.13994563461858447, 0.13272817659142083, 0.12270522405295646, 0.12074818484722238, 0.11458548187343318, 0.11241540477422807], 'acc': [0.49599098051081203, 0.6894262094032911, 0.7653470314615384, 0.8175895775926648, 0.8490353295660293, 0.8808569286557195, 0.9049110495485598, 0.9219493859992891, 0.9313455274217979, 0.9411175138100261, 0.9465046343394791, 0.9507642204646208, 0.9521423206984085, 0.9559007761502917, 0.9564019042697057, 0.9557754941615089, 0.9577800042197329, 0.9572788775639258, 0.9596592326774779, 0.9595339507932383]}\n",
            "[2.5152179852848633, 1.4400186483138966, 1.09263083131891, 0.8681671241565744, 0.7017604238973228, 0.5661171950573493, 0.4616239985646654, 0.3732759061537121, 0.3061377179634598, 0.2559871982397576, 0.220555698653565, 0.18942086775704334, 0.17165924069189065, 0.15494241552211324, 0.13994563461858447, 0.13272817659142083, 0.12270522405295646, 0.12074818484722238, 0.11458548187343318, 0.11241540477422807]\n",
            "[1.7151439695358277, 1.3478155841827393, 1.1696101322174073, 1.0835124025344849, 0.9850943813323975, 0.9416287260055543, 0.9107129430770874, 0.9353509044647217, 0.8929766750335694, 0.9061575703620911, 0.9162699928283692, 0.906952435016632, 0.9337559232711792, 0.9621203699111939, 0.9658965911865235, 1.017648847579956, 1.020556516647339, 1.041063473701477, 1.1015060863494872, 1.0748134489059449]\n",
            "range(1, 21)\n"
          ],
          "name": "stdout"
        },
        {
          "output_type": "execute_result",
          "data": {
            "text/plain": [
              "[<matplotlib.lines.Line2D at 0x7fe966bc67b8>]"
            ]
          },
          "metadata": {
            "tags": []
          },
          "execution_count": 22
        },
        {
          "output_type": "display_data",
          "data": {
            "image/png": "[encoded data removed]",
            "text/plain": [
              "<matplotlib.figure.Figure at 0x7fe966a746a0>"
            ]
          },
          "metadata": {
            "tags": []
          }
        }
      ]
    },
    {
      "metadata": {
        "id": "e6gQyaSZUPGi",
        "colab_type": "code",
        "colab": {
          "base_uri": "https://localhost:8080/",
          "height": 376
        },
        "outputId": "681d2e8d-8397-4705-dc88-c69fc4cf6bc5"
      },
      "cell_type": "code",
      "source": [
        "plt.clf()   # clear figure\n",
        "\n",
        "acc = history.history['acc']\n",
        "val_acc = history.history['val_acc']\n",
        "\n",
        "plt.plot(epochs, acc, 'bo', label='Training acc')\n",
        "plt.plot(epochs, val_acc, 'b', label='Validation acc')\n",
        "plt.title('Training and validation accuracy')\n",
        "plt.xlabel('Epochs')\n",
        "plt.ylabel('Loss')\n",
        "plt.legend()\n",
        "\n",
        "plt.show()"
      ],
      "execution_count": 25,
      "outputs": [
        {
          "output_type": "display_data",
          "data": {
            "image/png": "[encoded data removed]",
            "text/plain": [
              "<matplotlib.figure.Figure at 0x7fe96623d630>"
            ]
          },
          "metadata": {
            "tags": []
          }
        }
      ]
    },
    {
      "metadata": {
        "id": "1SxZxKaJUPG_",
        "colab_type": "text"
      },
      "cell_type": "markdown",
      "source": [
        "It seems that the network starts overfitting after 8 epochs. Let's train a new network from scratch for 8 epochs, then let's evaluate it on \n",
        "the test set:"
      ]
    },
    {
      "metadata": {
        "id": "3kdrIvtYUPHI",
        "colab_type": "code",
        "colab": {
          "base_uri": "https://localhost:8080/",
          "height": 323
        },
        "outputId": "dc2ba1dc-284b-4c9d-d574-fcd733ffc363"
      },
      "cell_type": "code",
      "source": [
        "model = models.Sequential()\n",
        "model.add(layers.Dense(64, activation='relu', input_shape=(10000,)))\n",
        "model.add(layers.Dense(64, activation='relu'))\n",
        "model.add(layers.Dense(46, activation='softmax'))\n",
        "\n",
        "model.compile(optimizer='rmsprop',\n",
        "              loss='categorical_crossentropy',\n",
        "              metrics=['accuracy'])\n",
        "model.fit(partial_x_train,\n",
        "          partial_y_train,\n",
        "          epochs=8,\n",
        "          batch_size=512,\n",
        "          validation_data=(x_val, y_val))\n",
        "results = model.evaluate(x_test, one_hot_test_labels)"
      ],
      "execution_count": 26,
      "outputs": [
        {
          "output_type": "stream",
          "text": [
            "Train on 7982 samples, validate on 1000 samples\n",
            "Epoch 1/8\n",
            "7982/7982 [==============================] - 1s 144us/step - loss: 2.5348 - acc: 0.5233 - val_loss: 1.6851 - val_acc: 0.6500\n",
            "Epoch 2/8\n",
            "7982/7982 [==============================] - 1s 113us/step - loss: 1.3758 - acc: 0.7115 - val_loss: 1.2775 - val_acc: 0.7190\n",
            "Epoch 3/8\n",
            "7982/7982 [==============================] - 1s 148us/step - loss: 1.0174 - acc: 0.7783 - val_loss: 1.1352 - val_acc: 0.7440\n",
            "Epoch 4/8\n",
            "7982/7982 [==============================] - 1s 148us/step - loss: 0.8018 - acc: 0.8245 - val_loss: 1.0516 - val_acc: 0.7560\n",
            "Epoch 5/8\n",
            "7982/7982 [==============================] - 1s 152us/step - loss: 0.6418 - acc: 0.8622 - val_loss: 0.9739 - val_acc: 0.7980\n",
            "Epoch 6/8\n",
            "7982/7982 [==============================] - 1s 148us/step - loss: 0.5139 - acc: 0.8921 - val_loss: 0.9088 - val_acc: 0.8100\n",
            "Epoch 7/8\n",
            "7982/7982 [==============================] - 1s 149us/step - loss: 0.4138 - acc: 0.9142 - val_loss: 0.8934 - val_acc: 0.8210\n",
            "Epoch 8/8\n",
            "7982/7982 [==============================] - 1s 147us/step - loss: 0.3370 - acc: 0.9278 - val_loss: 0.8732 - val_acc: 0.8250\n",
            "2246/2246 [==============================] - 0s 137us/step\n"
          ],
          "name": "stdout"
        }
      ]
    },
    {
      "metadata": {
        "id": "AOfMFfPiUPHj",
        "colab_type": "code",
        "colab": {
          "base_uri": "https://localhost:8080/",
          "height": 34
        },
        "outputId": "ecf9ff38-9a9e-4632-c081-794a48b69dbd"
      },
      "cell_type": "code",
      "source": [
        "results"
      ],
      "execution_count": 27,
      "outputs": [
        {
          "output_type": "execute_result",
          "data": {
            "text/plain": [
              "[0.9803684868137431, 0.782279608192342]"
            ]
          },
          "metadata": {
            "tags": []
          },
          "execution_count": 27
        }
      ]
    },
    {
      "metadata": {
        "id": "IoyHvTFXUPIA",
        "colab_type": "text"
      },
      "cell_type": "markdown",
      "source": [
        "\n",
        "Our approach reaches an accuracy of ~78%. With a balanced binary classification problem, the accuracy reached by a purely random classifier \n",
        "would be 50%, but in our case it is closer to 19%, so our results seem pretty good, at least when compared to a random baseline:"
      ]
    },
    {
      "metadata": {
        "id": "CyKAc9CMUPIG",
        "colab_type": "code",
        "colab": {
          "base_uri": "https://localhost:8080/",
          "height": 34
        },
        "outputId": "0eec5028-f9c3-47a0-a80a-e2fce2e7d4c1"
      },
      "cell_type": "code",
      "source": [
        "import copy\n",
        "\n",
        "test_labels_copy = copy.copy(test_labels)\n",
        "np.random.shuffle(test_labels_copy)\n",
        "float(np.sum(np.array(test_labels) == np.array(test_labels_copy))) / len(test_labels)"
      ],
      "execution_count": 28,
      "outputs": [
        {
          "output_type": "execute_result",
          "data": {
            "text/plain": [
              "0.19679430097951914"
            ]
          },
          "metadata": {
            "tags": []
          },
          "execution_count": 28
        }
      ]
    },
    {
      "metadata": {
        "id": "7hBLqQ-3UPIu",
        "colab_type": "text"
      },
      "cell_type": "markdown",
      "source": [
        "## Generating predictions on new data\n",
        "\n",
        "We can verify that the `predict` method of our model instance returns a probability distribution over all 46 topics. Let's generate topic \n",
        "predictions for all of the test data:"
      ]
    },
    {
      "metadata": {
        "id": "X2dD9uUVUPI0",
        "colab_type": "code",
        "colab": {
          "base_uri": "https://localhost:8080/",
          "height": 17
        },
        "outputId": "d03270d1-34bc-4479-a3f3-d6ec838141a5"
      },
      "cell_type": "code",
      "source": [
        "predictions = model.predict(x_test)"
      ],
      "execution_count": 29,
      "outputs": []
    },
    {
      "metadata": {
        "id": "l-LHTBfVUPJB",
        "colab_type": "text"
      },
      "cell_type": "markdown",
      "source": [
        "Each entry in `predictions` is a vector of length 46:"
      ]
    },
    {
      "metadata": {
        "id": "GWiFxHsRUPJI",
        "colab_type": "code",
        "colab": {
          "base_uri": "https://localhost:8080/",
          "height": 34
        },
        "outputId": "e5d07b92-0e5e-4a2b-f7ef-c904a72f1cad"
      },
      "cell_type": "code",
      "source": [
        "predictions[0].shape"
      ],
      "execution_count": 30,
      "outputs": [
        {
          "output_type": "execute_result",
          "data": {
            "text/plain": [
              "(46,)"
            ]
          },
          "metadata": {
            "tags": []
          },
          "execution_count": 30
        }
      ]
    },
    {
      "metadata": {
        "id": "lUrcJfBhUPJZ",
        "colab_type": "text"
      },
      "cell_type": "markdown",
      "source": [
        "The coefficients in this vector sum to 1:"
      ]
    },
    {
      "metadata": {
        "id": "le_UMtzBUPJh",
        "colab_type": "code",
        "colab": {
          "base_uri": "https://localhost:8080/",
          "height": 34
        },
        "outputId": "ad2e5129-dd7b-41b6-bfb1-faf366048a21"
      },
      "cell_type": "code",
      "source": [
        "np.sum(predictions[0])"
      ],
      "execution_count": 31,
      "outputs": [
        {
          "output_type": "execute_result",
          "data": {
            "text/plain": [
              "1.0000001"
            ]
          },
          "metadata": {
            "tags": []
          },
          "execution_count": 31
        }
      ]
    },
    {
      "metadata": {
        "id": "EHytThtmUPJ7",
        "colab_type": "text"
      },
      "cell_type": "markdown",
      "source": [
        "The largest entry is the predicted class, i.e. the class with the highest probability:"
      ]
    },
    {
      "metadata": {
        "id": "3CzfzS6NUPJ9",
        "colab_type": "code",
        "colab": {
          "base_uri": "https://localhost:8080/",
          "height": 34
        },
        "outputId": "b1e206cc-2731-4435-983a-a64333e375cb"
      },
      "cell_type": "code",
      "source": [
        "np.argmax(predictions[0])"
      ],
      "execution_count": 32,
      "outputs": [
        {
          "output_type": "execute_result",
          "data": {
            "text/plain": [
              "3"
            ]
          },
          "metadata": {
            "tags": []
          },
          "execution_count": 32
        }
      ]
    },
    {
      "metadata": {
        "id": "pX6hfon3hGeR",
        "colab_type": "code",
        "colab": {
          "base_uri": "https://localhost:8080/",
          "height": 221
        },
        "outputId": "b3b02218-13d2-4644-f5f5-cd1573c88294"
      },
      "cell_type": "code",
      "source": [
        "predictions[0]"
      ],
      "execution_count": 33,
      "outputs": [
        {
          "output_type": "execute_result",
          "data": {
            "text/plain": [
              "array([2.90148782e-05, 6.99652519e-05, 5.57179483e-05, 7.42450953e-01,\n",
              "       2.38016769e-01, 2.00955085e-07, 1.44751029e-04, 7.20550233e-05,\n",
              "       8.08311626e-03, 9.79543165e-06, 4.64791192e-05, 2.29701563e-03,\n",
              "       3.80377423e-05, 1.82599615e-04, 5.48387152e-06, 1.91799336e-05,\n",
              "       9.43875406e-04, 4.59289673e-04, 4.07617481e-04, 8.79639701e-04,\n",
              "       1.83770712e-03, 6.14441640e-04, 5.89357796e-06, 3.27345799e-04,\n",
              "       1.35733080e-05, 2.37103057e-04, 7.87437966e-06, 3.16362093e-05,\n",
              "       1.10711662e-05, 1.65756661e-04, 6.32023381e-04, 4.89494938e-04,\n",
              "       2.08869787e-05, 3.60801023e-05, 1.01225625e-04, 3.32064847e-05,\n",
              "       6.55640033e-05, 6.83394246e-05, 1.01885285e-04, 3.80970479e-04,\n",
              "       5.50046207e-05, 4.59078583e-04, 2.55228565e-06, 6.56552293e-05,\n",
              "       7.25747759e-06, 1.67935650e-05], dtype=float32)"
            ]
          },
          "metadata": {
            "tags": []
          },
          "execution_count": 33
        }
      ]
    },
    {
      "metadata": {
        "id": "TMqSUzRBUPKQ",
        "colab_type": "text"
      },
      "cell_type": "markdown",
      "source": [
        "## A different way to handle the labels and the loss\n",
        "\n",
        "We mentioned earlier that another way to encode the labels would be to cast them as an integer tensor, like such:"
      ]
    },
    {
      "metadata": {
        "id": "iVPLDy3VUPKY",
        "colab_type": "code",
        "colab": {
          "base_uri": "https://localhost:8080/",
          "height": 17
        },
        "outputId": "43e01804-9118-4c85-e48b-b0d16e2c9b9c"
      },
      "cell_type": "code",
      "source": [
        "y_train = np.array(train_labels)\n",
        "y_test = np.array(test_labels)"
      ],
      "execution_count": 34,
      "outputs": []
    },
    {
      "metadata": {
        "id": "06jWtgMhhoyf",
        "colab_type": "code",
        "colab": {
          "base_uri": "https://localhost:8080/",
          "height": 51
        },
        "outputId": "82d1b3a8-16ac-442c-8deb-50694400ee1b"
      },
      "cell_type": "code",
      "source": [
        "print(y_train[12])\n",
        "y_test[60]"
      ],
      "execution_count": 39,
      "outputs": [
        {
          "output_type": "stream",
          "text": [
            "4\n"
          ],
          "name": "stdout"
        },
        {
          "output_type": "execute_result",
          "data": {
            "text/plain": [
              "4"
            ]
          },
          "metadata": {
            "tags": []
          },
          "execution_count": 39
        }
      ]
    },
    {
      "metadata": {
        "id": "RHFQtZQ8UPK3",
        "colab_type": "text"
      },
      "cell_type": "markdown",
      "source": [
        "\n",
        "The only thing it would change is the choice of the loss function. Our previous loss, `categorical_crossentropy`, expects the labels to \n",
        "follow a categorical encoding. With integer labels, we should use `sparse_categorical_crossentropy`:"
      ]
    },
    {
      "metadata": {
        "id": "CsEVHqziUPLE",
        "colab_type": "code",
        "colab": {
          "base_uri": "https://localhost:8080/",
          "height": 17
        },
        "outputId": "870651ab-102f-474e-8a8f-a3630c6a32e0"
      },
      "cell_type": "code",
      "source": [
        "model.compile(optimizer='rmsprop', loss='sparse_categorical_crossentropy', metrics=['acc'])"
      ],
      "execution_count": 40,
      "outputs": []
    },
    {
      "metadata": {
        "id": "1EJEnuf4UPLW",
        "colab_type": "text"
      },
      "cell_type": "markdown",
      "source": [
        "This new loss function is still mathematically the same as `categorical_crossentropy`; it just has a different interface."
      ]
    },
    {
      "metadata": {
        "id": "dNJy1zb-UPLe",
        "colab_type": "text"
      },
      "cell_type": "markdown",
      "source": [
        "## On the importance of having sufficiently large intermediate layers\n",
        "\n",
        "\n",
        "We mentioned earlier that since our final outputs were 46-dimensional, we should avoid intermediate layers with much less than 46 hidden \n",
        "units. Now let's try to see what happens when we introduce an information bottleneck by having intermediate layers significantly less than \n",
        "46-dimensional, e.g. 4-dimensional."
      ]
    },
    {
      "metadata": {
        "id": "jIaeHpvJUPLi",
        "colab_type": "code",
        "colab": {
          "base_uri": "https://localhost:8080/",
          "height": 751
        },
        "outputId": "038fee25-7683-45b5-f065-656edf880cf7"
      },
      "cell_type": "code",
      "source": [
        "model = models.Sequential()\n",
        "model.add(layers.Dense(64, activation='relu', input_shape=(10000,)))\n",
        "model.add(layers.Dense(4, activation='relu'))\n",
        "model.add(layers.Dense(46, activation='softmax'))\n",
        "\n",
        "model.compile(optimizer='rmsprop',\n",
        "              loss='categorical_crossentropy',\n",
        "              metrics=['accuracy'])\n",
        "model.fit(partial_x_train,\n",
        "          partial_y_train,\n",
        "          epochs=20,\n",
        "          batch_size=128,\n",
        "          validation_data=(x_val, y_val))"
      ],
      "execution_count": 41,
      "outputs": [
        {
          "output_type": "stream",
          "text": [
            "Train on 7982 samples, validate on 1000 samples\n",
            "Epoch 1/20\n",
            "7982/7982 [==============================] - 2s 206us/step - loss: 2.7072 - acc: 0.4390 - val_loss: 2.0157 - val_acc: 0.5940\n",
            "Epoch 2/20\n",
            "7982/7982 [==============================] - 1s 184us/step - loss: 1.7338 - acc: 0.6179 - val_loss: 1.6578 - val_acc: 0.6100\n",
            "Epoch 3/20\n",
            "7982/7982 [==============================] - 1s 185us/step - loss: 1.4675 - acc: 0.6366 - val_loss: 1.5680 - val_acc: 0.6050\n",
            "Epoch 4/20\n",
            "7982/7982 [==============================] - 1s 181us/step - loss: 1.3264 - acc: 0.6432 - val_loss: 1.4843 - val_acc: 0.6150\n",
            "Epoch 5/20\n",
            "7982/7982 [==============================] - 1s 187us/step - loss: 1.2164 - acc: 0.6495 - val_loss: 1.4541 - val_acc: 0.6210\n",
            "Epoch 6/20\n",
            "7982/7982 [==============================] - 1s 183us/step - loss: 1.1257 - acc: 0.6758 - val_loss: 1.4345 - val_acc: 0.6310\n",
            "Epoch 7/20\n",
            "7982/7982 [==============================] - 2s 189us/step - loss: 1.0514 - acc: 0.6929 - val_loss: 1.4611 - val_acc: 0.6350\n",
            "Epoch 8/20\n",
            "2048/7982 [======>.......................] - ETA: 1s - loss: 0.9572 - acc: 0.7139"
          ],
          "name": "stdout"
        },
        {
          "output_type": "stream",
          "text": [
            "7982/7982 [==============================] - 2s 188us/step - loss: 0.9924 - acc: 0.7040 - val_loss: 1.4402 - val_acc: 0.6520\n",
            "Epoch 9/20\n",
            "7982/7982 [==============================] - 1s 187us/step - loss: 0.9418 - acc: 0.7181 - val_loss: 1.4843 - val_acc: 0.6550\n",
            "Epoch 10/20\n",
            "7982/7982 [==============================] - 1s 184us/step - loss: 0.8982 - acc: 0.7429 - val_loss: 1.5160 - val_acc: 0.6580\n",
            "Epoch 11/20\n",
            "7982/7982 [==============================] - 2s 193us/step - loss: 0.8600 - acc: 0.7586 - val_loss: 1.5324 - val_acc: 0.6670\n",
            "Epoch 12/20\n",
            "7982/7982 [==============================] - 2s 189us/step - loss: 0.8257 - acc: 0.7670 - val_loss: 1.5208 - val_acc: 0.6710\n",
            "Epoch 13/20\n",
            "7982/7982 [==============================] - 2s 194us/step - loss: 0.7953 - acc: 0.7772 - val_loss: 1.5575 - val_acc: 0.6760\n",
            "Epoch 14/20\n",
            "7982/7982 [==============================] - 2s 195us/step - loss: 0.7678 - acc: 0.7868 - val_loss: 1.5951 - val_acc: 0.6730\n",
            "Epoch 15/20\n",
            "4736/7982 [================>.............] - ETA: 0s - loss: 0.7235 - acc: 0.7979"
          ],
          "name": "stdout"
        },
        {
          "output_type": "stream",
          "text": [
            "7982/7982 [==============================] - 2s 190us/step - loss: 0.7417 - acc: 0.7968 - val_loss: 1.6450 - val_acc: 0.6760\n",
            "Epoch 16/20\n",
            "7982/7982 [==============================] - 2s 189us/step - loss: 0.7192 - acc: 0.8001 - val_loss: 1.7347 - val_acc: 0.6610\n",
            "Epoch 17/20\n",
            "7982/7982 [==============================] - 2s 192us/step - loss: 0.6991 - acc: 0.8029 - val_loss: 1.7771 - val_acc: 0.6640\n",
            "Epoch 18/20\n",
            "7982/7982 [==============================] - 2s 194us/step - loss: 0.6803 - acc: 0.8078 - val_loss: 1.7778 - val_acc: 0.6760\n",
            "Epoch 19/20\n",
            "7982/7982 [==============================] - 2s 192us/step - loss: 0.6614 - acc: 0.8116 - val_loss: 1.8055 - val_acc: 0.6780\n",
            "Epoch 20/20\n",
            "7982/7982 [==============================] - 2s 193us/step - loss: 0.6454 - acc: 0.8143 - val_loss: 1.8339 - val_acc: 0.6730\n"
          ],
          "name": "stdout"
        },
        {
          "output_type": "execute_result",
          "data": {
            "text/plain": [
              "<keras.callbacks.History at 0x7fe966297748>"
            ]
          },
          "metadata": {
            "tags": []
          },
          "execution_count": 41
        }
      ]
    },
    {
      "metadata": {
        "id": "ERzt6JhSUPL8",
        "colab_type": "text"
      },
      "cell_type": "markdown",
      "source": [
        "\n",
        "Our network now seems to peak at ~71% test accuracy, a 8% absolute drop. This drop is mostly due to the fact that we are now trying to \n",
        "compress a lot of information (enough information to recover the separation hyperplanes of 46 classes) into an intermediate space that is \n",
        "too low-dimensional. The network is able to cram _most_ of the necessary information into these 8-dimensional representations, but not all \n",
        "of it."
      ]
    },
    {
      "metadata": {
        "id": "PPavYd76UPL_",
        "colab_type": "text"
      },
      "cell_type": "markdown",
      "source": [
        "## Further experiments\n",
        "\n",
        "* Try using larger or smaller layers: 32 units, 128 units...\n",
        "* We were using two hidden layers. Now try to use a single hidden layer, or three hidden layers."
      ]
    },
    {
      "metadata": {
        "id": "rEC0yqhBUPMG",
        "colab_type": "text"
      },
      "cell_type": "markdown",
      "source": [
        "## Wrapping up\n",
        "\n",
        "\n",
        "Here's what you should take away from this example:\n",
        "\n",
        "* If you are trying to classify data points between N classes, your network should end with a `Dense` layer of size N.\n",
        "* In a single-label, multi-class classification problem, your network should end with a `softmax` activation, so that it will output a \n",
        "probability distribution over the N output classes.\n",
        "* _Categorical crossentropy_ is almost always the loss function you should use for such problems. It minimizes the distance between the \n",
        "probability distributions output by the network, and the true distribution of the targets.\n",
        "* There are two ways to handle labels in multi-class classification:\n",
        "    ** Encoding the labels via \"categorical encoding\" (also known as \"one-hot encoding\") and using `categorical_crossentropy` as your loss \n",
        "function.\n",
        "    ** Encoding the labels as integers and using the `sparse_categorical_crossentropy` loss function.\n",
        "* If you need to classify data into a large number of categories, then you should avoid creating information bottlenecks in your network by having \n",
        "intermediate layers that are too small."
      ]
    }
  ]
}